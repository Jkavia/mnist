{
 "cells": [
  {
   "cell_type": "code",
   "execution_count": 1,
   "metadata": {},
   "outputs": [],
   "source": [
    "import torch\n",
    "import torch.nn as nn\n",
    "import torch.nn.functional as F\n",
    "import torch.optim as optim\n",
    "from torch.autograd import Variable\n",
    "import torchvision\n",
    "from torchvision import datasets, transforms\n",
    "import numpy as np\n",
    "import matplotlib.pyplot as plt\n",
    "%matplotlib inline"
   ]
  },
  {
   "cell_type": "code",
   "execution_count": 2,
   "metadata": {},
   "outputs": [],
   "source": [
    "train_loader = torch.utils.data.DataLoader(\n",
    "    datasets.MNIST('./data', train=True, download=False,\n",
    "    transform=transforms.Compose([\n",
    "        transforms.ToTensor()\n",
    "    ])),\n",
    "    batch_size=32, shuffle=False)"
   ]
  },
  {
   "cell_type": "code",
   "execution_count": 3,
   "metadata": {},
   "outputs": [],
   "source": [
    "test_loader = torch.utils.data.DataLoader(\n",
    "    datasets.MNIST('./data', train=False,\n",
    "    transform=transforms.Compose([\n",
    "        transforms.ToTensor()\n",
    "    ])),\n",
    "    batch_size=32, shuffle=False)\n"
   ]
  },
  {
   "cell_type": "code",
   "execution_count": 4,
   "metadata": {
    "collapsed": true
   },
   "outputs": [],
   "source": [
    "class BasicNN(nn.Module):\n",
    "    def __init__(self):\n",
    "        super(BasicNN, self).__init__()\n",
    "        self.net = nn.Linear(28 * 28, 10)\n",
    "    def forward(self, x):\n",
    "        batch_size = x.size(0)\n",
    "        x = x.view(batch_size, -1)\n",
    "        output = self.net(x)\n",
    "        return F.softmax(output)"
   ]
  },
  {
   "cell_type": "code",
   "execution_count": 5,
   "metadata": {
    "collapsed": true
   },
   "outputs": [],
   "source": [
    "model = BasicNN()\n",
    "optimizer = optim.SGD(model.parameters(), lr=0.001)"
   ]
  },
  {
   "cell_type": "code",
   "execution_count": 6,
   "metadata": {
    "collapsed": true
   },
   "outputs": [],
   "source": [
    "def test():\n",
    "    total_loss = 0\n",
    "    correct = 0\n",
    "    for image, label in test_loader:\n",
    "        image, label = Variable(image), Variable(label)\n",
    "        output = model(image)\n",
    "        total_loss += F.cross_entropy(output, label)\n",
    "        correct += (torch.max(output, 1)[1].view(label.size()).data == label.data).sum()\n",
    "    total_loss = total_loss.data[0] / len(test_loader)\n",
    "    accuracy = correct / len(test_loader.dataset)\n",
    "    return total_loss, accuracy\n"
   ]
  },
  {
   "cell_type": "code",
   "execution_count": 7,
   "metadata": {},
   "outputs": [],
   "source": [
    "def train():\n",
    "    model.train()\n",
    "    for image, label in train_loader:\n",
    "        image, label = Variable(image), Variable(label)\n",
    "        optimizer.zero_grad()\n",
    "        output = model(image)\n",
    "        loss = F.cross_entropy(output, label)\n",
    "        loss.backward()\n",
    "        optimizer.step()"
   ]
  },
  {
   "cell_type": "code",
   "execution_count": null,
   "metadata": {},
   "outputs": [
    {
     "name": "stdout",
     "output_type": "stream",
     "text": [
      "\n",
      "[Epoch: 1] Test Loss:2.27352 Test Accuracy:0.44360\n",
      "\n",
      "[Epoch: 2] Test Loss:2.22371 Test Accuracy:0.45100\n",
      "\n",
      "[Epoch: 3] Test Loss:2.16380 Test Accuracy:0.49840\n",
      "\n",
      "[Epoch: 4] Test Loss:2.09973 Test Accuracy:0.51520\n",
      "\n",
      "[Epoch: 5] Test Loss:2.04782 Test Accuracy:0.56200\n",
      "\n",
      "[Epoch: 6] Test Loss:2.00434 Test Accuracy:0.60630\n",
      "\n",
      "[Epoch: 7] Test Loss:1.96735 Test Accuracy:0.62930\n",
      "\n",
      "[Epoch: 8] Test Loss:1.93913 Test Accuracy:0.64160\n",
      "\n",
      "[Epoch: 9] Test Loss:1.91655 Test Accuracy:0.65620\n",
      "\n",
      "[Epoch: 10] Test Loss:1.89545 Test Accuracy:0.68240\n",
      "\n",
      "[Epoch: 11] Test Loss:1.87484 Test Accuracy:0.70650\n",
      "\n",
      "[Epoch: 12] Test Loss:1.85802 Test Accuracy:0.71700\n",
      "\n",
      "[Epoch: 13] Test Loss:1.84345 Test Accuracy:0.72550\n",
      "\n",
      "[Epoch: 14] Test Loss:1.82930 Test Accuracy:0.74690\n",
      "\n",
      "[Epoch: 15] Test Loss:1.81557 Test Accuracy:0.77430\n",
      "\n",
      "[Epoch: 16] Test Loss:1.80372 Test Accuracy:0.78770\n",
      "\n",
      "[Epoch: 17] Test Loss:1.79372 Test Accuracy:0.79150\n",
      "\n",
      "[Epoch: 18] Test Loss:1.78501 Test Accuracy:0.79350\n",
      "\n",
      "[Epoch: 19] Test Loss:1.77731 Test Accuracy:0.79600\n",
      "\n",
      "[Epoch: 20] Test Loss:1.77043 Test Accuracy:0.79800\n",
      "\n",
      "[Epoch: 21] Test Loss:1.76424 Test Accuracy:0.79990\n",
      "\n",
      "[Epoch: 22] Test Loss:1.75864 Test Accuracy:0.80170\n",
      "\n",
      "[Epoch: 23] Test Loss:1.75355 Test Accuracy:0.80300\n",
      "\n",
      "[Epoch: 24] Test Loss:1.74890 Test Accuracy:0.80510\n",
      "\n",
      "[Epoch: 25] Test Loss:1.74463 Test Accuracy:0.80620\n",
      "\n",
      "[Epoch: 26] Test Loss:1.74069 Test Accuracy:0.80720\n",
      "\n",
      "[Epoch: 27] Test Loss:1.73705 Test Accuracy:0.80880\n",
      "\n",
      "[Epoch: 28] Test Loss:1.73367 Test Accuracy:0.80960\n",
      "\n",
      "[Epoch: 29] Test Loss:1.73052 Test Accuracy:0.81040\n",
      "\n",
      "[Epoch: 30] Test Loss:1.72757 Test Accuracy:0.81110\n",
      "\n",
      "[Epoch: 31] Test Loss:1.72482 Test Accuracy:0.81170\n",
      "\n",
      "[Epoch: 32] Test Loss:1.72223 Test Accuracy:0.81150\n",
      "\n",
      "[Epoch: 33] Test Loss:1.71979 Test Accuracy:0.81260\n",
      "\n",
      "[Epoch: 34] Test Loss:1.71750 Test Accuracy:0.81350\n",
      "\n",
      "[Epoch: 35] Test Loss:1.71532 Test Accuracy:0.81350\n",
      "\n",
      "[Epoch: 36] Test Loss:1.71326 Test Accuracy:0.81490\n",
      "\n",
      "[Epoch: 37] Test Loss:1.71131 Test Accuracy:0.81560\n",
      "\n",
      "[Epoch: 38] Test Loss:1.70945 Test Accuracy:0.81610\n",
      "\n",
      "[Epoch: 39] Test Loss:1.70768 Test Accuracy:0.81660\n",
      "\n",
      "[Epoch: 40] Test Loss:1.70599 Test Accuracy:0.81710\n",
      "\n",
      "[Epoch: 41] Test Loss:1.70437 Test Accuracy:0.81810\n",
      "\n",
      "[Epoch: 42] Test Loss:1.70282 Test Accuracy:0.81840\n",
      "\n",
      "[Epoch: 43] Test Loss:1.70134 Test Accuracy:0.81910\n",
      "\n",
      "[Epoch: 44] Test Loss:1.69992 Test Accuracy:0.81960\n",
      "\n",
      "[Epoch: 45] Test Loss:1.69854 Test Accuracy:0.82030\n",
      "\n",
      "[Epoch: 46] Test Loss:1.69722 Test Accuracy:0.82110\n",
      "\n",
      "[Epoch: 47] Test Loss:1.69594 Test Accuracy:0.82090\n",
      "\n",
      "[Epoch: 48] Test Loss:1.69470 Test Accuracy:0.82140\n",
      "\n",
      "[Epoch: 49] Test Loss:1.69350 Test Accuracy:0.82170\n",
      "\n",
      "[Epoch: 50] Test Loss:1.69233 Test Accuracy:0.82180\n",
      "\n",
      "[Epoch: 51] Test Loss:1.69119 Test Accuracy:0.82220\n",
      "\n",
      "[Epoch: 52] Test Loss:1.69007 Test Accuracy:0.82240\n",
      "\n",
      "[Epoch: 53] Test Loss:1.68897 Test Accuracy:0.82280\n",
      "\n",
      "[Epoch: 54] Test Loss:1.68787 Test Accuracy:0.82320\n",
      "\n",
      "[Epoch: 55] Test Loss:1.68678 Test Accuracy:0.82370\n",
      "\n",
      "[Epoch: 56] Test Loss:1.68567 Test Accuracy:0.82450\n",
      "\n",
      "[Epoch: 57] Test Loss:1.68453 Test Accuracy:0.82490\n",
      "\n",
      "[Epoch: 58] Test Loss:1.68333 Test Accuracy:0.82580\n",
      "\n",
      "[Epoch: 59] Test Loss:1.68204 Test Accuracy:0.82700\n",
      "\n",
      "[Epoch: 60] Test Loss:1.68060 Test Accuracy:0.82880\n",
      "\n",
      "[Epoch: 61] Test Loss:1.67894 Test Accuracy:0.83060\n",
      "\n",
      "[Epoch: 62] Test Loss:1.67696 Test Accuracy:0.83360\n",
      "\n",
      "[Epoch: 63] Test Loss:1.67463 Test Accuracy:0.83750\n",
      "\n",
      "[Epoch: 64] Test Loss:1.67199 Test Accuracy:0.84090\n",
      "\n",
      "[Epoch: 65] Test Loss:1.66929 Test Accuracy:0.84380\n"
     ]
    }
   ],
   "source": [
    "best_test_loss = None\n",
    "for e in range(1, 150):\n",
    "    train()\n",
    "    test_loss, test_accuracy = test()\n",
    "    print(\"\\n[Epoch: %d] Test Loss:%5.5f Test Accuracy:%5.5f\" % (e, test_loss, test_accuracy))\n",
    "    # Save the model if the test_loss is the lowest\n",
    "    if not best_test_loss or test_loss < best_test_loss:\n",
    "        best_test_loss = test_loss\n",
    "    else:\n",
    "        break\n",
    "print(\"\\nFinal Results\\n-------------\\n\"\"Loss:\", best_test_loss, \"Test Accuracy: \", test_accuracy)"
   ]
  },
  {
   "cell_type": "code",
   "execution_count": null,
   "metadata": {
    "collapsed": true
   },
   "outputs": [],
   "source": []
  }
 ],
 "metadata": {
  "kernelspec": {
   "display_name": "Python 3",
   "language": "python",
   "name": "python3"
  },
  "language_info": {
   "codemirror_mode": {
    "name": "ipython",
    "version": 3
   },
   "file_extension": ".py",
   "mimetype": "text/x-python",
   "name": "python",
   "nbconvert_exporter": "python",
   "pygments_lexer": "ipython3",
   "version": "3.6.3"
  }
 },
 "nbformat": 4,
 "nbformat_minor": 2
}
